{
 "cells": [
  {
   "cell_type": "code",
   "execution_count": null,
   "metadata": {},
   "outputs": [],
   "source": [
    "使用网格搜索法对5个模型进行调优（调参时采用五折交叉验证的方式），并进行模型评估，记得展示代码的运行结果b"
   ]
  },
  {
   "cell_type": "code",
   "execution_count": null,
   "metadata": {},
   "outputs": [],
   "source": []
  },
  {
   "cell_type": "code",
   "execution_count": 3,
   "metadata": {},
   "outputs": [],
   "source": [
    "import numpy as np\n",
    "import pandas as pd\n",
    "import warnings\n",
    "warnings.filterwarnings('ignore')\n",
    "\n",
    "#导入处理后的数据，4754*81\n",
    "data = pd.read_csv('data/data_81col.csv')"
   ]
  },
  {
   "cell_type": "code",
   "execution_count": 22,
   "metadata": {},
   "outputs": [],
   "source": [
    "# 生成训练集和测试集\n",
    "from sklearn.model_selection import train_test_split\n",
    "y = data['status']\n",
    "X = data.drop(['status'],axis = 1)\n",
    "X_train,X_test,y_train,y_test = train_test_split(X,y,test_size=0.3,random_state=2018)"
   ]
  },
  {
   "cell_type": "code",
   "execution_count": 27,
   "metadata": {},
   "outputs": [
    {
     "name": "stdout",
     "output_type": "stream",
     "text": [
      "(array([0, 1]), array([2493,  834]))\n"
     ]
    }
   ],
   "source": [
    "print(np.unique(y_train,return_counts=True))"
   ]
  },
  {
   "cell_type": "code",
   "execution_count": 55,
   "metadata": {},
   "outputs": [],
   "source": [
    "#导入相关算法\n",
    "from sklearn.tree import DecisionTreeClassifier\n",
    "from sklearn.ensemble import RandomForestClassifier\n",
    "from xgboost import XGBClassifier\n",
    "#导入模型评估分数\n",
    "from sklearn.metrics import accuracy_score,precision_score,recall_score,f1_score,roc_auc_score,roc_curve\n",
    "import matplotlib.pyplot as plt\n",
    "import seaborn as sns\n",
    "from sklearn.model_selection import GridSearchCV\n",
    "import time"
   ]
  },
  {
   "cell_type": "code",
   "execution_count": 111,
   "metadata": {},
   "outputs": [
    {
     "name": "stdout",
     "output_type": "stream",
     "text": [
      "Model dt  best parameter:{'criterion': 'entropy', 'max_depth': 5}\n",
      "Model dt  best score:0.7213517829449839\n",
      "dt 所花时间为：2.184547185897827\n",
      "Model rf  best parameter:{'criterion': 'gini', 'max_depth': 5, 'n_estimators': 50}\n",
      "Model rf  best score:0.7952488727326831\n",
      "rf 所花时间为：59.4072151184082\n",
      "Model xgb  best parameter:{'learing_rate': 0.01, 'max_depth': 5, 'n_estimators': 50}\n",
      "Model xgb  best score:0.7944643135524245\n",
      "xgb 所花时间为：340.53707003593445\n"
     ]
    }
   ],
   "source": [
    "model_list = [('dt',DecisionTreeClassifier(random_state=2018,class_weight='balanced')),\n",
    "              ('rf',RandomForestClassifier(random_state=2018,class_weight='balanced',n_jobs=2)),\n",
    "              ('xgb',XGBClassifier(random_state=2018,n_jobs=2))]\n",
    "score_list = [('准确率',accuracy_score),('精准率',precision_score),('召回率',recall_score),('F1_score',f1_score)]\n",
    "\n",
    "#存储所有得分\n",
    "result_dict = {}\n",
    "df_total = pd.DataFrame()\n",
    "params ={\n",
    "        'dt':{'criterion':['gini','entropy'],'max_depth':[5,10,15]},\n",
    "        'rf':{'n_estimators':[20,50,100,150],'criterion':['gini','entropy'],'max_depth':[5,10,15]},\n",
    "        'xgb':{'learing_rate':[0.01,0.1,1],'max_depth':[5,10,15],'n_estimators':[20,50,100,150]}\n",
    "        }\n",
    "for model_name,model in model_list:\n",
    "    start = time.time()\n",
    "    clf = GridSearchCV(model,param_grid=params[model_name],cv=5,scoring='roc_auc')\n",
    "    clf.fit(X_train,y_train)\n",
    "    print('Model {}  best parameter:{}'.format(model_name,clf.best_params_))\n",
    "    print('Model {}  best score:{}'.format(model_name,clf.best_score_))\n",
    "    best_model = clf.best_estimator_\n",
    "    y_train_predict = best_model.predict(X_train)\n",
    "    y_test_predict = best_model.predict(X_test)\n",
    "    \n",
    "    result_dict[model_name] = {}\n",
    "    result_dict[model_name]['Train'] = []\n",
    "    result_dict[model_name]['Test'] = []\n",
    "    #accuracy_score precison_score  recall_score f1_score\n",
    "    for score_name,score in score_list: \n",
    "        result_dict[model_name]['Train'].append(score(y_train,y_train_predict))\n",
    "        result_dict[model_name]['Test'].append(score(y_test,y_test_predict))\n",
    "        \n",
    "    #roc_auc_score  roc_curve\n",
    "    \n",
    "    result_dict[model_name]['Train'].append(roc_auc_score(y_train,best_model.predict_proba(X_train)[:,1]))\n",
    "    result_dict[model_name]['Train'].append(roc_curve(y_train,best_model.predict_proba(X_train)[:,1]))\n",
    "    result_dict[model_name]['Test'].append(roc_auc_score(y_test,best_model.predict_proba(X_test)[:,1]))\n",
    "    result_dict[model_name]['Test'].append(roc_curve(y_test,best_model.predict_proba(X_test)[:,1]))\n",
    "    \n",
    "    df = pd.DataFrame({'Train':result_dict[model_name]['Train'][:-1],\n",
    "                       'Test':result_dict[model_name]['Test'][:-1]\n",
    "                      })    \n",
    "    df = df.T\n",
    "    df.set_index([[model_name,model_name],['Train','Test']],inplace=True)\n",
    "    \n",
    "    df_total = pd.concat([df_total,df])\n",
    "    end = time.time()\n",
    "    print('{} 所花时间为：{}'.format(model_name,end-start))\n",
    "    "
   ]
  },
  {
   "cell_type": "code",
   "execution_count": 71,
   "metadata": {},
   "outputs": [],
   "source": [
    "#特征标准化\n",
    "from sklearn.preprocessing import StandardScaler\n",
    "ss = StandardScaler()\n",
    "X_train_scaled = ss.fit_transform(X_train)\n",
    "X_test_scaled = ss.transform(X_test)\n",
    "\n",
    "#GridSearchCV  逻辑回归 和 SVM  \n",
    "from sklearn.linear_model import LogisticRegression\n",
    "from sklearn.svm import SVC\n",
    "# from sklearn.model_selection import GridSearchCV\n",
    "import warnings\n",
    "warnings.filterwarnings('ignore')"
   ]
  },
  {
   "cell_type": "code",
   "execution_count": 116,
   "metadata": {},
   "outputs": [
    {
     "name": "stdout",
     "output_type": "stream",
     "text": [
      "Model xgb  best parameter:{'C': 0.1, 'max_iter': 50, 'solver': 'liblinear'}\n",
      "Model xgb  best score:0.7858233268980483\n",
      "lg 所花时间为：5.3679070472717285\n"
     ]
    }
   ],
   "source": [
    "#逻辑回归\n",
    "start = time.time()\n",
    "lg = LogisticRegression(random_state=2018,class_weight='balanced',n_jobs=2)\n",
    "params = {'C':[0.1,1,10],'max_iter':[50,100,150],'solver':['liblinear','lbfgs']}\n",
    "clf = GridSearchCV(lg,param_grid=params,scoring='roc_auc')\n",
    "clf.fit(X_train_scaled,y_train)\n",
    "print('Model {}  best parameter:{}'.format(model_name,clf.best_params_))\n",
    "print('Model {}  best score:{}'.format(model_name,clf.best_score_))\n",
    "best_model = clf.best_estimator_\n",
    "y_train_predict = best_model.predict(X_train_scaled)\n",
    "y_test_predict = best_model.predict(X_test_scaled)\n",
    "\n",
    "result_dict['lg'] = {}\n",
    "result_dict['lg']['Train'] = []\n",
    "result_dict['lg']['Test'] = []\n",
    "for score_name,score in score_list: \n",
    "    result_dict['lg']['Train'].append(score(y_train,y_train_predict))\n",
    "    result_dict['lg']['Test'].append(score(y_test,y_test_predict))\n",
    "\n",
    "#roc_auc_score  roc_curve\n",
    "\n",
    "result_dict['lg']['Train'].append(roc_auc_score(y_train,best_model.predict_proba(X_train_scaled)[:,1]))\n",
    "result_dict['lg']['Train'].append(roc_curve(y_train,best_model.predict_proba(X_train_scaled)[:,1]))\n",
    "result_dict['lg']['Test'].append(roc_auc_score(y_test,best_model.predict_proba(X_test_scaled)[:,1]))\n",
    "result_dict['lg']['Test'].append(roc_curve(y_test,best_model.predict_proba(X_test_scaled)[:,1]))\n",
    "\n",
    "df = pd.DataFrame({'Train':result_dict['lg']['Train'][:-1],\n",
    "                   'Test':result_dict['lg']['Test'][:-1]\n",
    "                  })    \n",
    "df = df.T\n",
    "df.set_index([['lg','lg'],['Train','Test']],inplace=True)\n",
    "\n",
    "df_total = pd.concat([df_total,df])\n",
    "end = time.time()\n",
    "print('lg 所花时间为：{}'.format(end-start))\n"
   ]
  },
  {
   "cell_type": "code",
   "execution_count": 118,
   "metadata": {},
   "outputs": [
    {
     "name": "stdout",
     "output_type": "stream",
     "text": [
      "Model xgb  best parameter:{'C': 1, 'kernel': 'linear'}\n",
      "Model xgb  best score:0.782902919541623\n",
      "svc 所花时间为：154.20784831047058\n"
     ]
    }
   ],
   "source": [
    "#svm\n",
    "start = time.time()\n",
    "svc = SVC(random_state=2018,class_weight='balanced',probability=True)\n",
    "params = {'C':[0.1,1,10],'kernel':['rbf','linear']}\n",
    "clf = GridSearchCV(svc,param_grid=params,scoring='roc_auc')\n",
    "clf.fit(X_train_scaled,y_train)\n",
    "print('Model {}  best parameter:{}'.format(model_name,clf.best_params_))\n",
    "print('Model {}  best score:{}'.format(model_name,clf.best_score_))\n",
    "best_model = clf.best_estimator_\n",
    "y_train_predict = best_model.predict(X_train_scaled)\n",
    "y_test_predict = best_model.predict(X_test_scaled)\n",
    "\n",
    "result_dict['svc'] = {}\n",
    "result_dict['svc']['Train'] = []\n",
    "result_dict['svc']['Test'] = []\n",
    "for score_name,score in score_list: \n",
    "    result_dict['svc']['Train'].append(score(y_train,y_train_predict))\n",
    "    result_dict['svc']['Test'].append(score(y_test,y_test_predict))\n",
    "\n",
    "#roc_auc_score  roc_curve\n",
    "\n",
    "result_dict['svc']['Train'].append(roc_auc_score(y_train,best_model.predict_proba(X_train_scaled)[:,1]))\n",
    "result_dict['svc']['Train'].append(roc_curve(y_train,best_model.predict_proba(X_train_scaled)[:,1]))\n",
    "result_dict['svc']['Test'].append(roc_auc_score(y_test,best_model.predict_proba(X_test_scaled)[:,1]))\n",
    "result_dict['svc']['Test'].append(roc_curve(y_test,best_model.predict_proba(X_test_scaled)[:,1]))\n",
    "\n",
    "df = pd.DataFrame({'Train':result_dict['svc']['Train'][:-1],\n",
    "                   'Test':result_dict['svc']['Test'][:-1]\n",
    "                  })    \n",
    "df = df.T\n",
    "df.set_index([['svc','svc'],['Train','Test']],inplace=True)\n",
    "\n",
    "df_total = pd.concat([df_total,df])\n",
    "end = time.time()\n",
    "print('svc 所花时间为：{}'.format(end-start))\n"
   ]
  },
  {
   "cell_type": "code",
   "execution_count": 119,
   "metadata": {
    "scrolled": false
   },
   "outputs": [
    {
     "data": {
      "text/html": [
       "<div>\n",
       "<style scoped>\n",
       "    .dataframe tbody tr th:only-of-type {\n",
       "        vertical-align: middle;\n",
       "    }\n",
       "\n",
       "    .dataframe tbody tr th {\n",
       "        vertical-align: top;\n",
       "    }\n",
       "\n",
       "    .dataframe thead th {\n",
       "        text-align: right;\n",
       "    }\n",
       "</style>\n",
       "<table border=\"1\" class=\"dataframe\">\n",
       "  <thead>\n",
       "    <tr style=\"text-align: right;\">\n",
       "      <th></th>\n",
       "      <th></th>\n",
       "      <th>0</th>\n",
       "      <th>1</th>\n",
       "      <th>2</th>\n",
       "      <th>3</th>\n",
       "      <th>4</th>\n",
       "    </tr>\n",
       "  </thead>\n",
       "  <tbody>\n",
       "    <tr>\n",
       "      <th rowspan=\"2\" valign=\"top\">dt</th>\n",
       "      <th>Train</th>\n",
       "      <td>0.756237</td>\n",
       "      <td>0.510044</td>\n",
       "      <td>0.700240</td>\n",
       "      <td>0.590197</td>\n",
       "      <td>0.814673</td>\n",
       "    </tr>\n",
       "    <tr>\n",
       "      <th>Test</th>\n",
       "      <td>0.688157</td>\n",
       "      <td>0.414343</td>\n",
       "      <td>0.579387</td>\n",
       "      <td>0.483159</td>\n",
       "      <td>0.704562</td>\n",
       "    </tr>\n",
       "    <tr>\n",
       "      <th rowspan=\"2\" valign=\"top\">rf</th>\n",
       "      <th>Train</th>\n",
       "      <td>0.805230</td>\n",
       "      <td>0.589768</td>\n",
       "      <td>0.732614</td>\n",
       "      <td>0.653476</td>\n",
       "      <td>0.873313</td>\n",
       "    </tr>\n",
       "    <tr>\n",
       "      <th>Test</th>\n",
       "      <td>0.729502</td>\n",
       "      <td>0.471338</td>\n",
       "      <td>0.618384</td>\n",
       "      <td>0.534940</td>\n",
       "      <td>0.773653</td>\n",
       "    </tr>\n",
       "    <tr>\n",
       "      <th rowspan=\"2\" valign=\"top\">xgb</th>\n",
       "      <th>Train</th>\n",
       "      <td>0.901713</td>\n",
       "      <td>0.951872</td>\n",
       "      <td>0.640288</td>\n",
       "      <td>0.765591</td>\n",
       "      <td>0.968369</td>\n",
       "    </tr>\n",
       "    <tr>\n",
       "      <th>Test</th>\n",
       "      <td>0.782761</td>\n",
       "      <td>0.623116</td>\n",
       "      <td>0.345404</td>\n",
       "      <td>0.444444</td>\n",
       "      <td>0.758260</td>\n",
       "    </tr>\n",
       "    <tr>\n",
       "      <th rowspan=\"2\" valign=\"top\">lg</th>\n",
       "      <th>Train</th>\n",
       "      <td>0.762248</td>\n",
       "      <td>0.519043</td>\n",
       "      <td>0.702638</td>\n",
       "      <td>0.597045</td>\n",
       "      <td>0.821226</td>\n",
       "    </tr>\n",
       "    <tr>\n",
       "      <th>Test</th>\n",
       "      <td>0.711282</td>\n",
       "      <td>0.447732</td>\n",
       "      <td>0.632312</td>\n",
       "      <td>0.524249</td>\n",
       "      <td>0.768993</td>\n",
       "    </tr>\n",
       "    <tr>\n",
       "      <th rowspan=\"2\" valign=\"top\">svc</th>\n",
       "      <th>Train</th>\n",
       "      <td>0.764052</td>\n",
       "      <td>0.521360</td>\n",
       "      <td>0.717026</td>\n",
       "      <td>0.603735</td>\n",
       "      <td>0.820399</td>\n",
       "    </tr>\n",
       "    <tr>\n",
       "      <th>Test</th>\n",
       "      <td>0.709180</td>\n",
       "      <td>0.444000</td>\n",
       "      <td>0.618384</td>\n",
       "      <td>0.516880</td>\n",
       "      <td>0.762746</td>\n",
       "    </tr>\n",
       "  </tbody>\n",
       "</table>\n",
       "</div>"
      ],
      "text/plain": [
       "                  0         1         2         3         4\n",
       "dt  Train  0.756237  0.510044  0.700240  0.590197  0.814673\n",
       "    Test   0.688157  0.414343  0.579387  0.483159  0.704562\n",
       "rf  Train  0.805230  0.589768  0.732614  0.653476  0.873313\n",
       "    Test   0.729502  0.471338  0.618384  0.534940  0.773653\n",
       "xgb Train  0.901713  0.951872  0.640288  0.765591  0.968369\n",
       "    Test   0.782761  0.623116  0.345404  0.444444  0.758260\n",
       "lg  Train  0.762248  0.519043  0.702638  0.597045  0.821226\n",
       "    Test   0.711282  0.447732  0.632312  0.524249  0.768993\n",
       "svc Train  0.764052  0.521360  0.717026  0.603735  0.820399\n",
       "    Test   0.709180  0.444000  0.618384  0.516880  0.762746"
      ]
     },
     "metadata": {},
     "output_type": "display_data"
    }
   ],
   "source": [
    "display(df_total)"
   ]
  },
  {
   "cell_type": "code",
   "execution_count": 120,
   "metadata": {},
   "outputs": [
    {
     "data": {
      "text/html": [
       "<div>\n",
       "<style scoped>\n",
       "    .dataframe tbody tr th:only-of-type {\n",
       "        vertical-align: middle;\n",
       "    }\n",
       "\n",
       "    .dataframe tbody tr th {\n",
       "        vertical-align: top;\n",
       "    }\n",
       "\n",
       "    .dataframe thead th {\n",
       "        text-align: right;\n",
       "    }\n",
       "</style>\n",
       "<table border=\"1\" class=\"dataframe\">\n",
       "  <thead>\n",
       "    <tr style=\"text-align: right;\">\n",
       "      <th></th>\n",
       "      <th></th>\n",
       "      <th>准确率</th>\n",
       "      <th>精准率</th>\n",
       "      <th>召回率</th>\n",
       "      <th>F1-score</th>\n",
       "      <th>Auc-socre</th>\n",
       "    </tr>\n",
       "  </thead>\n",
       "  <tbody>\n",
       "    <tr>\n",
       "      <th rowspan=\"2\" valign=\"top\">dt</th>\n",
       "      <th>Train</th>\n",
       "      <td>0.756237</td>\n",
       "      <td>0.510044</td>\n",
       "      <td>0.700240</td>\n",
       "      <td>0.590197</td>\n",
       "      <td>0.814673</td>\n",
       "    </tr>\n",
       "    <tr>\n",
       "      <th>Test</th>\n",
       "      <td>0.688157</td>\n",
       "      <td>0.414343</td>\n",
       "      <td>0.579387</td>\n",
       "      <td>0.483159</td>\n",
       "      <td>0.704562</td>\n",
       "    </tr>\n",
       "    <tr>\n",
       "      <th rowspan=\"2\" valign=\"top\">rf</th>\n",
       "      <th>Train</th>\n",
       "      <td>0.805230</td>\n",
       "      <td>0.589768</td>\n",
       "      <td>0.732614</td>\n",
       "      <td>0.653476</td>\n",
       "      <td>0.873313</td>\n",
       "    </tr>\n",
       "    <tr>\n",
       "      <th>Test</th>\n",
       "      <td>0.729502</td>\n",
       "      <td>0.471338</td>\n",
       "      <td>0.618384</td>\n",
       "      <td>0.534940</td>\n",
       "      <td>0.773653</td>\n",
       "    </tr>\n",
       "    <tr>\n",
       "      <th rowspan=\"2\" valign=\"top\">xgb</th>\n",
       "      <th>Train</th>\n",
       "      <td>0.901713</td>\n",
       "      <td>0.951872</td>\n",
       "      <td>0.640288</td>\n",
       "      <td>0.765591</td>\n",
       "      <td>0.968369</td>\n",
       "    </tr>\n",
       "    <tr>\n",
       "      <th>Test</th>\n",
       "      <td>0.782761</td>\n",
       "      <td>0.623116</td>\n",
       "      <td>0.345404</td>\n",
       "      <td>0.444444</td>\n",
       "      <td>0.758260</td>\n",
       "    </tr>\n",
       "    <tr>\n",
       "      <th rowspan=\"2\" valign=\"top\">lg</th>\n",
       "      <th>Train</th>\n",
       "      <td>0.762248</td>\n",
       "      <td>0.519043</td>\n",
       "      <td>0.702638</td>\n",
       "      <td>0.597045</td>\n",
       "      <td>0.821226</td>\n",
       "    </tr>\n",
       "    <tr>\n",
       "      <th>Test</th>\n",
       "      <td>0.711282</td>\n",
       "      <td>0.447732</td>\n",
       "      <td>0.632312</td>\n",
       "      <td>0.524249</td>\n",
       "      <td>0.768993</td>\n",
       "    </tr>\n",
       "    <tr>\n",
       "      <th rowspan=\"2\" valign=\"top\">svc</th>\n",
       "      <th>Train</th>\n",
       "      <td>0.764052</td>\n",
       "      <td>0.521360</td>\n",
       "      <td>0.717026</td>\n",
       "      <td>0.603735</td>\n",
       "      <td>0.820399</td>\n",
       "    </tr>\n",
       "    <tr>\n",
       "      <th>Test</th>\n",
       "      <td>0.709180</td>\n",
       "      <td>0.444000</td>\n",
       "      <td>0.618384</td>\n",
       "      <td>0.516880</td>\n",
       "      <td>0.762746</td>\n",
       "    </tr>\n",
       "  </tbody>\n",
       "</table>\n",
       "</div>"
      ],
      "text/plain": [
       "                准确率       精准率       召回率  F1-score  Auc-socre\n",
       "dt  Train  0.756237  0.510044  0.700240  0.590197   0.814673\n",
       "    Test   0.688157  0.414343  0.579387  0.483159   0.704562\n",
       "rf  Train  0.805230  0.589768  0.732614  0.653476   0.873313\n",
       "    Test   0.729502  0.471338  0.618384  0.534940   0.773653\n",
       "xgb Train  0.901713  0.951872  0.640288  0.765591   0.968369\n",
       "    Test   0.782761  0.623116  0.345404  0.444444   0.758260\n",
       "lg  Train  0.762248  0.519043  0.702638  0.597045   0.821226\n",
       "    Test   0.711282  0.447732  0.632312  0.524249   0.768993\n",
       "svc Train  0.764052  0.521360  0.717026  0.603735   0.820399\n",
       "    Test   0.709180  0.444000  0.618384  0.516880   0.762746"
      ]
     },
     "metadata": {},
     "output_type": "display_data"
    }
   ],
   "source": [
    "df_final = df_total.rename(columns=(dict(zip(np.arange(0,5),['准确率','精准率','召回率','F1-score','Auc-socre']))))\n",
    "display(df_final)"
   ]
  },
  {
   "cell_type": "code",
   "execution_count": 121,
   "metadata": {},
   "outputs": [
    {
     "data": {
      "image/png": "[encoded data removed]",
      "text/plain": [
       "<Figure size 432x288 with 1 Axes>"
      ]
     },
     "metadata": {
      "needs_background": "light"
     },
     "output_type": "display_data"
    }
   ],
   "source": [
    "#训练集的 ROC 图\n",
    "plt.figure()\n",
    "for k in result_dict.keys():\n",
    "    fpr,tpr,_ = result_dict[k]['Train'][-1]\n",
    "    plt.plot(fpr,tpr,label='{} model (area = {:.2f})'.format(k,result_dict[k]['Train'][-2]))\n",
    "plt.plot([0, 1], [0, 1], color='navy', linestyle='--')\n",
    "plt.legend(loc='best')\n",
    "plt.xlabel('False Positive Rate')\n",
    "plt.ylabel('True Positive Rate')\n",
    "plt.title('Roc curve ')\n",
    "plt.show()"
   ]
  },
  {
   "cell_type": "code",
   "execution_count": 122,
   "metadata": {
    "scrolled": true
   },
   "outputs": [
    {
     "data": {
      "image/png": "[encoded data removed]",
      "text/plain": [
       "<Figure size 432x288 with 1 Axes>"
      ]
     },
     "metadata": {
      "needs_background": "light"
     },
     "output_type": "display_data"
    }
   ],
   "source": [
    "#测试集的 ROC 图\n",
    "plt.figure()\n",
    "for k in result_dict.keys():\n",
    "    fpr,tpr,_ = result_dict[k]['Train'][-1]\n",
    "    plt.plot(fpr,tpr,label='{} model (area = {:.2f})'.format(k,result_dict[k]['Test'][-2]))\n",
    "plt.plot([0, 1], [0, 1], color='navy', linestyle='--')\n",
    "plt.legend(loc='best')\n",
    "plt.xlabel('False Positive Rate')\n",
    "plt.ylabel('True Positive Rate')\n",
    "plt.title('Roc curve ')\n",
    "plt.show()"
   ]
  },
  {
   "cell_type": "code",
   "execution_count": 126,
   "metadata": {},
   "outputs": [
    {
     "name": "stdout",
     "output_type": "stream",
     "text": [
      "Model xgb  best parameter:{'learing_rate': 0.001, 'max_depth': 3}\n",
      "Model xgb  best score:0.7996483569509336\n",
      "train 准确率 0.8313796212804329\n",
      "test 准确率  0.7932725998598459\n",
      "train 精准率 0.819672131147541\n",
      "test 精准率  0.6684210526315789\n",
      "train 召回率 0.4196642685851319\n",
      "test 召回率  0.35376044568245124\n",
      "train F1_score 0.5551149881046787\n",
      "test F1_score  0.4626593806921675\n",
      "train auc  0.8772245741313086\n",
      "test auc 0.7731904583059477\n"
     ]
    }
   ],
   "source": [
    "#怀疑 XGB 过拟合，再做一次网络搜索,从上次的参数再往下调,learing_rate max_depth都是最低的，所以再往低調；n_estimatorts是中间的值，所以不再调整\n",
    "params ={\n",
    "        'learing_rate':[0.001,0.01],'max_depth':[2,3,5]\n",
    "        }\n",
    "\n",
    "start = time.time()\n",
    "clf = GridSearchCV(XGBClassifier(random_state=2018,n_jobs=2,n_estimators=50),param_grid=params,cv=5,scoring='roc_auc')\n",
    "clf.fit(X_train,y_train)\n",
    "print('Model {}  best parameter:{}'.format('xgb',clf.best_params_))\n",
    "print('Model {}  best score:{}'.format('xgb',clf.best_score_))\n",
    "best_model = clf.best_estimator_\n",
    "y_train_predict = best_model.predict(X_train)\n",
    "y_test_predict = best_model.predict(X_test)\n",
    "\n",
    "for score_name,score in score_list: \n",
    "    print('train {}'.format(score_name),score(y_train,y_train_predict))\n",
    "    print('test {} '.format(score_name),score(y_test,y_test_predict))\n",
    "\n",
    "#roc_auc_score  roc_curve\n",
    "\n",
    "print('train auc ',roc_auc_score(y_train,best_model.predict_proba(X_train)[:,1]))\n",
    "print('test auc',roc_auc_score(y_test,best_model.predict_proba(X_test)[:,1]))\n",
    "\n"
   ]
  },
  {
   "cell_type": "code",
   "execution_count": 127,
   "metadata": {
    "scrolled": true
   },
   "outputs": [
    {
     "name": "stdout",
     "output_type": "stream",
     "text": [
      "            准确率       精准率       召回率  F1-score  Auc-socre\n",
      "Train  0.901713  0.951872  0.640288  0.765591   0.968369\n",
      "Test   0.782761  0.623116  0.345404  0.444444   0.758260\n"
     ]
    }
   ],
   "source": [
    "#显示之前 XGB 的分数\n",
    "print(df_final.loc['xgb'])"
   ]
  },
  {
   "cell_type": "code",
   "execution_count": 130,
   "metadata": {
    "scrolled": true
   },
   "outputs": [
    {
     "name": "stdout",
     "output_type": "stream",
     "text": [
      "Model xgb  best parameter:{'learing_rate': 0.0001}\n",
      "Model xgb  best score:0.8014016983387195\n",
      "train 准确率 0.8313796212804329\n",
      "test 准确率  0.7932725998598459\n",
      "train 精准率 0.819672131147541\n",
      "test 精准率  0.6684210526315789\n",
      "train 召回率 0.4196642685851319\n",
      "test 召回率  0.35376044568245124\n",
      "train F1_score 0.5551149881046787\n",
      "test F1_score  0.4626593806921675\n",
      "train auc  0.8772245741313086\n",
      "test auc 0.7731904583059477\n",
      "所花时间为：15.491289854049683\n"
     ]
    }
   ],
   "source": [
    "#对比可以出 best_score分数从0.7944提升到了0.7996，训练集上的其它分数都有提升，继续调参，这次只调 learning_rate\n",
    "params ={\n",
    "        'learing_rate':[0.0001,0.0003,0.0005]\n",
    "        }\n",
    "\n",
    "start = time.time()\n",
    "clf = GridSearchCV(XGBClassifier(random_state=2018,n_jobs=2,n_estimators=50,max_depth=3),param_grid=params,cv=10,scoring='roc_auc')\n",
    "clf.fit(X_train,y_train)\n",
    "print('Model {}  best parameter:{}'.format('xgb',clf.best_params_))\n",
    "print('Model {}  best score:{}'.format('xgb',clf.best_score_))\n",
    "best_model = clf.best_estimator_\n",
    "y_train_predict = best_model.predict(X_train)\n",
    "y_test_predict = best_model.predict(X_test)\n",
    "\n",
    "for score_name,score in score_list: \n",
    "    print('train {}'.format(score_name),score(y_train,y_train_predict))\n",
    "    print('test {} '.format(score_name),score(y_test,y_test_predict))\n",
    "\n",
    "#roc_auc_score  roc_curve\n",
    "\n",
    "print('train auc ',roc_auc_score(y_train,best_model.predict_proba(X_train)[:,1]))\n",
    "print('test auc',roc_auc_score(y_test,best_model.predict_proba(X_test)[:,1]))\n",
    "end = time.time()\n",
    "print('所花时间为：{}'.format(end-start))\n"
   ]
  },
  {
   "cell_type": "code",
   "execution_count": null,
   "metadata": {},
   "outputs": [],
   "source": [
    "\n",
    "调参完毕"
   ]
  }
 ],
 "metadata": {
  "kernelspec": {
   "display_name": "Python 3",
   "language": "python",
   "name": "python3"
  },
  "language_info": {
   "codemirror_mode": {
    "name": "ipython",
    "version": 3
   },
   "file_extension": ".py",
   "mimetype": "text/x-python",
   "name": "python",
   "nbconvert_exporter": "python",
   "pygments_lexer": "ipython3",
   "version": "3.7.3"
  }
 },
 "nbformat": 4,
 "nbformat_minor": 2
}
